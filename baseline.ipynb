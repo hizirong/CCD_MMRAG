{
 "cells": [
  {
   "cell_type": "code",
   "execution_count": 4,
   "metadata": {},
   "outputs": [],
   "source": [
    "from typing import List\n",
    "import requests\n",
    "import json\n",
    "import ollama\n",
    "import logging\n",
    "import pandas as pd\n",
    "import re\n",
    "\n",
    "\n",
    "logging.basicConfig(level=logging.INFO)\n",
    "logger = logging.getLogger(__name__)\n",
    "\n",
    "class LlamaQASystem:\n",
    "    def __init__(self, model_name: str = \"llama3.2-vision\"):\n",
    "        self.model_name = model_name\n",
    "\n",
    "    def get_prompt_by_type(self, query: str, question_type: str) -> str:\n",
    "        base_system = (\n",
    "            \"您是一名專業獸醫，擅長：1.犬認知功能障礙綜合症（CCD）的診斷和護理 2.動物中醫相關問題 3.常見問題診斷及改善建議\"\n",
    "        )\n",
    "\n",
    "        prompts = {\n",
    "            \"multiple_choice\": f\"\"\"<|begin_of_text|><|start_header_id|>system<|end_header_id|>\n",
    "                                    {base_system}\n",
    "                                    <|eot_id|><|start_header_id|>user<|end_header_id|>\n",
    "                                    這是一題選擇題：{query}\n",
    "                                    請以以下格式回答：\n",
    "                                    1. 第一行只能回答 A/B/C/D (請勿帶任何標點、文字)\n",
    "                                    2. 第二行才是說明，以 2~3 句話簡述理由\n",
    "                                    3. 若同時出現多個選項，請只選一個最適合的\n",
    "                                    4. 請在答案最後顯示你參考的來源連結或論文名稱，\n",
    "                                    如果來源中包含「(經驗) some_link」，請在回答中以 [Experience: some_link] 形式標示；\n",
    "                                    若包含「(文獻) some.pdf」，就 [reference: some.pdf]。\n",
    "                                    5.  若有相關圖片，在回答中自然地說明圖片內容跟回答的關係\n",
    "\n",
    "                                    限制：\n",
    "                                    - 請將整體回答限制在 200 字以內\n",
    "                                    - 直接切入重點\n",
    "                                    - 保持客觀和專業\n",
    "                                    <|eot_id|><|start_header_id|>assistant<|end_header_id|>\n",
    "                                    \"\"\",\n",
    "            \"true_false\": f\"\"\"<|begin_of_text|><|start_header_id|>system<|end_header_id|>\n",
    "                                {base_system}\n",
    "                                <|eot_id|><|start_header_id|>user<|end_header_id|>\n",
    "                                問題：{query}\n",
    "                                請依以下格式回答：\n",
    "                                1. 一定先指出「True」或「False」(僅能擇一)，若遇到無法確定或證據不足的情況，一律為False，並說明原因\n",
    "                                2. 再以 2～3 句話說明原因\n",
    "                                3. 請在答案最後顯示你參考的來源連結或論文名稱，\n",
    "                                    如果來源中包含「(經驗) some_link」，請在回答中以 [Experience: some_link] 形式標示；\n",
    "                                    若包含「(文獻) some.pdf」，就 [reference: some.pdf]。\n",
    "                                4.  若有相關圖片，在回答中自然地說明圖片內容跟回答的關係\n",
    "\n",
    "                                限制：\n",
    "                                - 請將整體回答限制在 200 字以內\n",
    "                                - 直接切入重點\n",
    "                                - 保持客觀和專業\n",
    "                                <|eot_id|><|start_header_id|>assistant<|end_header_id|>\n",
    "                                \"\"\",\n",
    "            \"qa\": f\"\"\"<|begin_of_text|><|start_header_id|>system<|end_header_id|>\n",
    "                                {base_system}\n",
    "                                <|eot_id|><|start_header_id|>user<|end_header_id|>\n",
    "                                問題：{query}\n",
    "                                請依以下格式回答：\n",
    "                                1. 針對問題提供具體答案\n",
    "                                2. 若遇到無法確定或證據不足的情況可以補充說明研究不足\n",
    "                                3. 提供實用的建議或解釋\n",
    "                                4. 請在答案最後顯示你參考的來源連結或論文名稱，\n",
    "                                    如果來源中包含「(經驗) some_link」，請在回答中以 [Experience: some_link] 形式標示；\n",
    "                                    若包含「(文獻) some.pdf」，就 [reference: some.pdf]。\n",
    "                                5. 若有相關圖片，在回答中說明圖片內容\n",
    "\n",
    "                                限制：\n",
    "                                - 請將整體回答限制在 400 字以內\n",
    "                                - 使用平易近人的語言\n",
    "                                - 避免過度技術性術語\n",
    "                                <|eot_id|><|start_header_id|>assistant<|end_header_id|>\n",
    "                                \"\"\"\n",
    "        }\n",
    "        return prompts.get(question_type, prompts[\"qa\"])\n",
    "\n",
    "    def determine_question_type(self, query: str) -> str:\n",
    "        if any(char in query for char in ['A.', 'B.', 'C.', 'D.']) or any(keyword in query for keyword in ['何者', '下列', '哪一個', '哪種']):\n",
    "            return \"multiple_choice\"\n",
    "        elif any(keyword in query for keyword in ['是否', '是嗎', '對嗎', '正確嗎']):\n",
    "            return \"true_false\"\n",
    "        else:\n",
    "            return \"qa\"\n",
    "\n",
    "    def display_response(self, query: str):\n",
    "            \"\"\"Display response with text and images\"\"\"\n",
    "            try:\n",
    "\n",
    "                response_text = self.generate_response(query)\n",
    "                \n",
    "                print(\"Question:\", query)\n",
    "                print(\"\\nSystem Response:\")\n",
    "                print(response_text)\n",
    "                print(\"\\n\" + \"-\"*50 + \"\\n\")\n",
    "\n",
    "                return response_text \n",
    "                    \n",
    "            except Exception as e:\n",
    "                logger.error(f\"Error in display_response: {str(e)}\", exc_info=True)  \n",
    "                return \"\", [] \n",
    "\n",
    "    def generate_response(self, query: str) -> str:\n",
    "        question_type = self.determine_question_type(query)\n",
    "        prompt = self.get_prompt_by_type(query, question_type)\n",
    "        message = {\n",
    "            'role': 'user',\n",
    "            'content': prompt\n",
    "        }\n",
    "        response = ollama.chat(\n",
    "            model=self.model_name,\n",
    "            messages=[message]\n",
    "        )\n",
    "        return response['message']['content']"
   ]
  },
  {
   "cell_type": "code",
   "execution_count": 5,
   "metadata": {},
   "outputs": [
    {
     "name": "stderr",
     "output_type": "stream",
     "text": [
      "INFO:httpx:HTTP Request: POST http://127.0.0.1:11434/api/chat \"HTTP/1.1 200 OK\"\n"
     ]
    },
    {
     "name": "stdout",
     "output_type": "stream",
     "text": [
      "Question: 六味地黃丸（Rehmannia 6）是臨床上治療犬貓慢性腎臟病屬「腎陰虛」證的常用基礎方，對嗎？\n",
      "\n",
      "System Response:\n",
      "False\n",
      "\n",
      "六味地黃丸（Rehmannia 6）雖然是臨床上常用的中藥，但它並不是治療犬貓慢性腎臟病的首選藥物。慢性腎臟病的治療需要根據個體情況進行調整，而六味地黃丸對於「腎陰虛」證的適用取決於具體的情況。\n",
      "\n",
      "在臨床實踐中，我們需要綜合考慮犬貓的症狀、檢查結果和身體狀態，才能決定是否使用六味地黃丸。 [Reference: 中藥學習網]\n",
      "\n",
      "--------------------------------------------------\n",
      "\n"
     ]
    },
    {
     "name": "stderr",
     "output_type": "stream",
     "text": [
      "INFO:httpx:HTTP Request: POST http://127.0.0.1:11434/api/chat \"HTTP/1.1 200 OK\"\n"
     ]
    },
    {
     "name": "stdout",
     "output_type": "stream",
     "text": [
      "Question: 下列哪一味中藥最常用於治療犬隻熱性／濕性皮膚炎，具「清熱燥濕、解毒」之效？A) 黃芩（Scutellaria baicalensis）(B) 川芎(C) 生薑 (D) 陳皮\n",
      "\n",
      "System Response:\n",
      "B)\n",
      "\n",
      "川芎具有清熱燥濕、解毒的功效，常用於治療犬隻熱性／濕性皮膚炎。它能夠清除體內的濕熱，消除瘙癢症狀，從而改善犬隻的舒適度。\n",
      "\n",
      "[reference: 醫學書籍 \"中藥物理論與實踐\"]\n",
      "\n",
      "--------------------------------------------------\n",
      "\n"
     ]
    },
    {
     "name": "stderr",
     "output_type": "stream",
     "text": [
      "INFO:httpx:HTTP Request: POST http://127.0.0.1:11434/api/chat \"HTTP/1.1 200 OK\"\n"
     ]
    },
    {
     "name": "stdout",
     "output_type": "stream",
     "text": [
      "Question: 「獨活寄生湯」（又稱杜仲寄生湯）常用於老年犬退化性關節炎，屬風寒濕痹兼腎虛之證，對嗎？\n",
      "\n",
      "System Response:\n",
      "False\n",
      "獨活寄生湯主要用於治療風寒濕痹兼腎虛之證，適用於人類，而非老年犬退化性關節炎。\n",
      "\n",
      "根據《千金要方》記載，獨活寄生湯是用於治療人間的風寒濕痹，無直接相關證據表明其適用于老年犬退化性關節炎。\n",
      "\n",
      "--------------------------------------------------\n",
      "\n"
     ]
    },
    {
     "name": "stderr",
     "output_type": "stream",
     "text": [
      "INFO:httpx:HTTP Request: POST http://127.0.0.1:11434/api/chat \"HTTP/1.1 200 OK\"\n"
     ]
    },
    {
     "name": "stdout",
     "output_type": "stream",
     "text": [
      "Question: 針灸穴位「大椎」（GV14）位於第七頸椎與第一胸椎之間，臨床常用於退熱。下列何者為該穴之中文名稱？(A) 百會 (B) 大椎 (C) 三陰交 (D) 合谷\n",
      "\n",
      "System Response:\n",
      "B\n",
      "\n",
      "大椎穴位（GV14）位於第七頸椎與第一胸椎之間，屬於督脈的主要穴位，常用於退熱、止痛和平衡氣血等目的。百會穴則位於頭顱後方，與大椎穴無關。\n",
      "\n",
      "來源: 《針灸學》(經驗)\n",
      "\n",
      "--------------------------------------------------\n",
      "\n"
     ]
    },
    {
     "name": "stderr",
     "output_type": "stream",
     "text": [
      "INFO:httpx:HTTP Request: POST http://127.0.0.1:11434/api/chat \"HTTP/1.1 200 OK\"\n"
     ]
    },
    {
     "name": "stdout",
     "output_type": "stream",
     "text": [
      "Question: 含麻黃（Ephedra）的處方因具升壓與興奮作用，對患有高血壓或心臟病的犬貓應避免使用，對嗎？\n",
      "\n",
      "System Response:\n",
      "True\n",
      "\n",
      "含麻黃（Ephedra）的處方因具升壓與興奮作用，對患有高血壓或心臟病的犬貓應避免使用。這是因為麻黃中所含的麻黃碱可能會加重心臟負擔和血壓，特別是在已經患有心臟問題的動物身上。使用麻黃處方有風險引起心律不穩定或血管疾病。\n",
      "\n",
      "參考來源：[reference: American Animal Hospital Association (AAHA) 的「麻黃（Ephedra）對動物的影響」]\n",
      "\n",
      "注意：圖片中的紅色警告標誌表示麻黃處方可能會危害健康，尤其是對心臟有問題的犬貓。\n",
      "\n",
      "--------------------------------------------------\n",
      "\n"
     ]
    },
    {
     "name": "stderr",
     "output_type": "stream",
     "text": [
      "INFO:httpx:HTTP Request: POST http://127.0.0.1:11434/api/chat \"HTTP/1.1 200 OK\"\n"
     ]
    },
    {
     "name": "stdout",
     "output_type": "stream",
     "text": [
      "Question: 寒證過盛發生於陰氣過高而陽氣正常，對嗎？\n",
      "\n",
      "System Response:\n",
      "False\n",
      "寒證過盛通常與陰陽氣的平衡失調有關，當陰氣過高而陽氣不足時，可能導致陽明之陽氣不足，進而引起寒證。然而，這種情況下並不一定是因為陽氣正常，而是陽氣不足。\n",
      "\n",
      "在中醫理論中，寒證的形成與體質、飲食、環境等多個因素相關，但陰陽氣平衡失調是其根本原因。陽氣過高而陰氣正常的情況下，並不會導致寒證出現。\n",
      "\n",
      "[Reference: 《中藥學教程》](經驗)\n",
      "\n",
      "--------------------------------------------------\n",
      "\n"
     ]
    },
    {
     "name": "stderr",
     "output_type": "stream",
     "text": [
      "INFO:httpx:HTTP Request: POST http://127.0.0.1:11434/api/chat \"HTTP/1.1 200 OK\"\n"
     ]
    },
    {
     "name": "stdout",
     "output_type": "stream",
     "text": [
      "Question: 用於免疫調節、風熱皮膚癢及降熱的要穴 LI‑11 曲池，其入針乾針深度約？(A) 0.3 寸 (B) 0.5 寸 (C) 1 寸( D) 1.5 寸\n",
      "\n",
      "System Response:\n",
      "針對問題的答案是：B) 0.5寸\n",
      "\n",
      "LI-11曲池是一個重要的穴位，主要用於免疫調節、風熱皮膚癢和降熱等功能。根據中醫理論和臨床經驗，LI-11曲池的入針乾針深度約為0.5寸。\n",
      "\n",
      "在實踐中，我們需要根據個體差異和病情進行調整。如果是初學者，可以參考一些常見的穴位位置圖或影片來確認。另外，注意保持適當的針壓和時間，以免對患者造成傷害。\n",
      "\n",
      "補充說明：LI-11曲池位於小指的第一掌骨處，是風熱疼痛、頭痛等病症的重要治療點。此穴位的刺激可以幫助調節免疫系統，減輕皮膚癢和風熱相關症狀。\n",
      "\n",
      "建議或解釋：在進行中醫針灸治療時，需要注意保持清潔、安心、舒適的環境，以利於患者放鬆身心。在針刺過程中，要根據患者的反應進行調整，避免造成不必要的疼痛或傷害。\n",
      "\n",
      "參考來源：《中國醫學論文》(1983) 《中醫理論與實踐》\n",
      "\n",
      "--------------------------------------------------\n",
      "\n"
     ]
    },
    {
     "name": "stderr",
     "output_type": "stream",
     "text": [
      "INFO:httpx:HTTP Request: POST http://127.0.0.1:11434/api/chat \"HTTP/1.1 200 OK\"\n"
     ]
    },
    {
     "name": "stdout",
     "output_type": "stream",
     "text": [
      "Question: SI‑3 後谿的臨床主要適應症不包括下列何者？(A) 頸椎痛 (B) 腰椎間盤突出 (C) 耳炎 (D) 咳嗽\n",
      "\n",
      "System Response:\n",
      "A\n",
      "\n",
      "SI-3後谿是動物中醫中的藥材，主要用於疏通氣道、止咳和解毒。根據其療效與作用機制，不太適合治療的選項是頸椎痛。頸椎痛主要是由於骨骼結構問題或神經系統異常引起的，SI-3後谿的疏通氣道和止咳效果不直接適用於這類疾病。\n",
      "\n",
      "來源：[reference: 中醫藥材與臨床應用.pdf]\n",
      "\n",
      "--------------------------------------------------\n",
      "\n"
     ]
    },
    {
     "name": "stderr",
     "output_type": "stream",
     "text": [
      "INFO:httpx:HTTP Request: POST http://127.0.0.1:11434/api/chat \"HTTP/1.1 200 OK\"\n"
     ]
    },
    {
     "name": "stdout",
     "output_type": "stream",
     "text": [
      "Question: 下列何者為安神、治療焦慮與失眠的常用心經穴，位置在腕橫紋尺側？(A) HT‑1 極泉( )B) HT‑3 少海 (C) HT‑7 神門 (D) HT‑9 少衝\n",
      "\n",
      "System Response:\n",
      "C\n",
      "\n",
      "HT-7 神門穴位於腕橫紋尺側，是人體的神經系統重要控制中心。該穴對於安神、治療焦慮與失眠有著顯著效果。\n",
      "\n",
      "根據中醫理論，HT-7 神門穴能夠平衡心陽和陰，調節神經系統功能，改善睡眠質量，減少焦慮症狀。\n",
      "\n",
      "--------------------------------------------------\n",
      "\n"
     ]
    },
    {
     "name": "stderr",
     "output_type": "stream",
     "text": [
      "INFO:httpx:HTTP Request: POST http://127.0.0.1:11434/api/chat \"HTTP/1.1 200 OK\"\n"
     ]
    },
    {
     "name": "stdout",
     "output_type": "stream",
     "text": [
      "Question: LU‑7 列缺可用於犬頸椎痛、椎間盤疾病與面神經麻痺的針灸治療,對嗎？\n",
      "\n",
      "System Response:\n",
      "False\n",
      "\n",
      "LU-7 是一條重要的針灸穴位，但其主要用於治療呼吸系統問題，如喘息、咳嗽等，而非犬頸椎痛、椎間盤疾病或面神經麻痺。\n",
      "\n",
      "在犬科針灸中，通常會使用不同的穴位來治療頸椎痛和椎間盤疾病，例如 GB-21 (風池)、LI-10 (之肢) 和 BL-10 (膈關)。這些穴位可以幫助減輕疼痛和改善神經功能。\n",
      "\n",
      "有關面神經麻痺的治療，通常會使用 GV-20 (百會) 和 Zanz_3 (太陽交) 等穴位來調節神經系統和身體平衡。\n",
      "\n",
      "參考來源：[reference: \"Canine Acupuncture\" by World Small Animal Veterinary Association]\n",
      "\n",
      "--------------------------------------------------\n",
      "\n"
     ]
    },
    {
     "name": "stderr",
     "output_type": "stream",
     "text": [
      "INFO:httpx:HTTP Request: POST http://127.0.0.1:11434/api/chat \"HTTP/1.1 200 OK\"\n"
     ]
    },
    {
     "name": "stdout",
     "output_type": "stream",
     "text": [
      "Question: 位於前肢第 2、3 掌骨之間，常用於鼻塞與全身疼痛的腧穴是？(A) LI‑4 合谷 (B) LI‑10 前理 (C) LU‑7 列缺 (D) SI‑3 後谿\n",
      "\n",
      "System Response:\n",
      "根據您的問題，答案是 (B) LI-10 前三里。\n",
      "\n",
      "LI-10 是位於前肢第 2、3 掌骨之間的腧穴，常用於鼻塞和全身疼痛的治療。它是十二經脈中的任脈的一個重要點，也被稱為「前理」或「三里」。根據中醫理論，這個腧穴可以幫助調節氣機，釋放阻塞的氣血，並且有助於減少全身疼痛。\n",
      "\n",
      "在臨床上，LI-10 膏藥灸或艾条灸都可用於刺激該腧穴。對於鼻塞，可以進行鼻內注射或使用藥物針劑來刺激該腧穴。由於這個腧穴也位於關節區域，因此有助於調理前肢的關節疼痛。\n",
      "\n",
      "在實踐中，醫師應根據患者的症狀選擇合適的治療方法，並且注意安全性和個人化的因素。\n",
      "\n",
      "參考來源：《內經》\n",
      "\n",
      "圖片內容：無\n",
      "\n",
      "--------------------------------------------------\n",
      "\n"
     ]
    },
    {
     "name": "stderr",
     "output_type": "stream",
     "text": [
      "INFO:httpx:HTTP Request: POST http://127.0.0.1:11434/api/chat \"HTTP/1.1 200 OK\"\n"
     ]
    },
    {
     "name": "stdout",
     "output_type": "stream",
     "text": [
      "Question: 關於體液（Body Fluid）下列何者不正確？(A) 係全身正常液體總稱 (B) 滋潤營養身體 (C) 水腫、痰屬體液失調 (D) 乾燥毛皮是體液「過盛」\n",
      "\n",
      "System Response:\n",
      "A\n",
      "\n",
      "體液是指人類或動物身體中的一種流體，包括血液、組織液、淋巴液等。它們的功能有滋潤、運輸、調節溫度等。選項 (D) 說的是乾燥毛皮是體液「過盛」，這是不正確的。乾燥毛皮通常是指皮膚缺乏足夠的濕潤，與體液過盛無關。\n",
      "\n",
      "*   參考文獻：[體液的概念和功能](https://www.mayoclinic.org/zh-tw/diseases-conditions/hydrations/symptoms-causes/syc-20375195)\n",
      "\n",
      "--------------------------------------------------\n",
      "\n"
     ]
    }
   ],
   "source": [
    "## single question test\n",
    "# 測試查詢\n",
    "qa_system = LlamaQASystem()\n",
    "\n",
    "test_queries = [\n",
    "\n",
    "# \"針對年長犬隻可能出現的神經病理變化，哪些關鍵指標常被用來對比阿茲海默類型的退化症狀，並且與臨床觀察到的行為衰退有何關聯？\",\n",
    "# \"除了藥物介入之外，平時飼養管理與環境調整方面有哪些具體作法，能同時有助於失智犬與失智貓維持較佳的生活品質，並為何多種方式並用的照護策略往往更能延緩認知退化？\",\n",
    "# \"若以老犬作為模擬人類老化與失智的實驗模型，進行認知增益或治療性藥物的評估時，最常採用哪些評量方法來確認藥物對行為和神經功能的影響，並且在哪些神經傳導路徑上通常會看到較明顯的指標性變化？\"\n",
    "\"六味地黃丸（Rehmannia 6）是臨床上治療犬貓慢性腎臟病屬「腎陰虛」證的常用基礎方，對嗎？\",\n",
    "\"下列哪一味中藥最常用於治療犬隻熱性／濕性皮膚炎，具「清熱燥濕、解毒」之效？A) 黃芩（Scutellaria baicalensis）(B) 川芎(C) 生薑 (D) 陳皮\",\n",
    "\"「獨活寄生湯」（又稱杜仲寄生湯）常用於老年犬退化性關節炎，屬風寒濕痹兼腎虛之證，對嗎？\",\n",
    "\"針灸穴位「大椎」（GV14）位於第七頸椎與第一胸椎之間，臨床常用於退熱。下列何者為該穴之中文名稱？(A) 百會 (B) 大椎 (C) 三陰交 (D) 合谷\",\n",
    "\"含麻黃（Ephedra）的處方因具升壓與興奮作用，對患有高血壓或心臟病的犬貓應避免使用，對嗎？\",\n",
    "\"寒證過盛發生於陰氣過高而陽氣正常，對嗎？\",\n",
    "\"用於免疫調節、風熱皮膚癢及降熱的要穴 LI‑11 曲池，其入針乾針深度約？(A) 0.3 寸 (B) 0.5 寸 (C) 1 寸( D) 1.5 寸\",\n",
    "\"SI‑3 後谿的臨床主要適應症不包括下列何者？(A) 頸椎痛 (B) 腰椎間盤突出 (C) 耳炎 (D) 咳嗽\",\n",
    "\"下列何者為安神、治療焦慮與失眠的常用心經穴，位置在腕橫紋尺側？(A) HT‑1 極泉( )B) HT‑3 少海 (C) HT‑7 神門 (D) HT‑9 少衝\",\n",
    "\"LU‑7 列缺可用於犬頸椎痛、椎間盤疾病與面神經麻痺的針灸治療,對嗎？\",\n",
    "\"位於前肢第 2、3 掌骨之間，常用於鼻塞與全身疼痛的腧穴是？(A) LI‑4 合谷 (B) LI‑10 前理 (C) LU‑7 列缺 (D) SI‑3 後谿\",\n",
    "\"關於體液（Body Fluid）下列何者不正確？(A) 係全身正常液體總稱 (B) 滋潤營養身體 (C) 水腫、痰屬體液失調 (D) 乾燥毛皮是體液「過盛」\"\n",
    "                    ]\n",
    "\n",
    "for query in test_queries:\n",
    "    qa_system.display_response(query)"
   ]
  },
  {
   "cell_type": "code",
   "execution_count": null,
   "metadata": {},
   "outputs": [
    {
     "name": "stderr",
     "output_type": "stream",
     "text": [
      "INFO:httpx:HTTP Request: POST http://127.0.0.1:11434/api/chat \"HTTP/1.1 200 OK\"\n"
     ]
    },
    {
     "name": "stdout",
     "output_type": "stream",
     "text": [
      "Question: CCD 是否與神經發炎相關？是否有特定細胞因子（cytokines）或發炎路徑（例如NLRP3 inflammasome）參與？\n",
      "\n",
      "System Response:\n",
      "True\n",
      "\n",
      "CCD（犬認知功能障礙綜合症）是一種複雜的疾病，目前尚未完全了解其神經發炎機制。然而，一些研究表明發炎反應可能在疾病進展中發揮作用。例如，某些研究發現NLRP3 inflammasome活性增高與CCD相關 [reference: some.pdf]。\n",
      "\n",
      "圖片：一張顯示犬隻神經組織中的發炎細胞的微鏡照片，強調了發炎在疾病進展中的作用。\n",
      "\n",
      "--------------------------------------------------\n",
      "\n"
     ]
    },
    {
     "name": "stderr",
     "output_type": "stream",
     "text": [
      "INFO:httpx:HTTP Request: POST http://127.0.0.1:11434/api/chat \"HTTP/1.1 200 OK\"\n"
     ]
    },
    {
     "name": "stdout",
     "output_type": "stream",
     "text": [
      "Question: CCD 是否與腸道微生物群變化有關？哪些特定細菌群可能影響大腦健康？\n",
      "\n",
      "System Response:\n",
      "True\n",
      "\n",
      "犬認知功能障礙綜合症（CCD）的成因複雜，研究表明腸道微生物群變化可能是其中一個重要影響因素。研究指出某些特定的細菌群，如肠道益生菌，在保持腦健康方面發揮關鍵作用。例如，Bifidobacterium 和 Lactobacillus 等菌種能夠通過制備神經遞質、調節免疫反應等方式影響大腦功能。\n",
      "\n",
      "圖片: 猫的脑与肠道微生物群的交互作用示意图（注意：此图仅供参考）\n",
      "\n",
      "[參考] Bercik P, et al. (2012). The microbiota and the regulation of the immune system. Journal of Clinical Investigation, 122(1), 22-30.\n",
      "\n",
      "--------------------------------------------------\n",
      "\n"
     ]
    },
    {
     "name": "stderr",
     "output_type": "stream",
     "text": [
      "INFO:httpx:HTTP Request: POST http://127.0.0.1:11434/api/chat \"HTTP/1.1 200 OK\"\n"
     ]
    },
    {
     "name": "stdout",
     "output_type": "stream",
     "text": [
      "Question: 失智犬的松果體是否退化？是否影響褪黑激素分泌？\n",
      "\n",
      "System Response:\n",
      "**答案：False**\n",
      "\n",
      "犬認知功能障礙綜合症（CCD）是一種神經退行性疾病，主要影響大腦的基底核、丘腦和其他區域，但松果體並不在其中。松果體是負責分泌褪黑激素（Melatonin）的腺體，而褪黑激素對於調節身體內部時鐘有關。\n",
      "\n",
      "因此，犬認知功能障礙綜合症與褪黑激素的分泌無直接關係。\n",
      "\n",
      "**參考來源：**\n",
      "[reference: CCD in Dogs.pdf]\n",
      "\n",
      "--------------------------------------------------\n",
      "\n"
     ]
    },
    {
     "name": "stderr",
     "output_type": "stream",
     "text": [
      "INFO:httpx:HTTP Request: POST http://127.0.0.1:11434/api/chat \"HTTP/1.1 200 OK\"\n"
     ]
    },
    {
     "name": "stdout",
     "output_type": "stream",
     "text": [
      "Question: B 群維生素是否能降低 CCD 進展風險？\n",
      "\n",
      "System Response:\n",
      "False\n",
      "B 群維生素可能有助於改善犬隻的神經健康，但目前尚未有直接證據表明它能降低犬認知功能障礙綜合症（CCD）的進展風險。研究顯示，B 群維生素缺乏與神經退行性疾病相關聯，但其在預防 CCD 的作用仍待進一步研究。\n",
      "圖片：一張狗的腦部解剖圖，表明神經健康對於犬隻認知功能至關重要。\n",
      "\n",
      "[reference: \"Canine Cognitive Dysfunction\" by the American Animal Hospital Association]\n",
      "\n",
      "--------------------------------------------------\n",
      "\n"
     ]
    },
    {
     "name": "stderr",
     "output_type": "stream",
     "text": [
      "INFO:httpx:HTTP Request: POST http://127.0.0.1:11434/api/chat \"HTTP/1.1 200 OK\"\n"
     ]
    },
    {
     "name": "stdout",
     "output_type": "stream",
     "text": [
      "Question: 食用GABA 是否對於預防 CCD 有效？\n",
      "\n",
      "System Response:\n",
      "True\n",
      "\n",
      "目前尚無可靠證據表明食用GABA能有效預防犬認知功能障礙綜合症（CCD）。許多研究與實踐經驗表明，GABA的補充可能有助於減輕動物的焦慮和興奮，但對於預防或治療CCD的效果仍然不夠充分。\n",
      "\n",
      "圖片：一張攝影機抓拍了一隻狗似乎在享受安眠藥品或GABA的效果，表面上看起來好像放鬆了，但是這些方法需要進一步研究以確認其是否能夠有效地預防CCD。\n",
      "\n",
      "參考文獻: [reference: \"GABA and Canine Cognitive Dysfunction Syndrome\" by American Kennel Club Canine Health Foundation](https://www.akcchf.org/health/topics/canine-cognitive-dysfunction/)\n",
      "\n",
      "--------------------------------------------------\n",
      "\n"
     ]
    },
    {
     "name": "stderr",
     "output_type": "stream",
     "text": [
      "INFO:httpx:HTTP Request: POST http://127.0.0.1:11434/api/chat \"HTTP/1.1 200 OK\"\n"
     ]
    },
    {
     "name": "stdout",
     "output_type": "stream",
     "text": [
      "Question: 警犬、救難犬等工作犬在罹患CCD的機率是否比家庭陪伴犬較高？\n",
      "\n",
      "System Response:\n",
      "**True**\n",
      "\n",
      "警犬、救難犬等工作犬因其高強度的訓練和工作環境，其罹患犬認知功能障礙綜合症（CCD）的機率確實較高。這是由於工作犬往往在年幼時開始接受嚴格的訓練，可能導致額外的壓力和應激反應，這些因素可能會加劇 CCD 的風險。\n",
      "\n",
      "而且，研究表明，警犬和救難犬經常需要面對高壓環境和情緒緊張的情況，而這些狀態可能會促進 CCD 的發生 [reference: Canine Cognitive Dysfunction in Working Dogs]。此外，工作犬的生活習慣和照顧方式可能與家庭陪伴犬不同，這也可能影響其患病風險。\n",
      "\n",
      "[reference: Canine Cognitive Dysfunction in Working Dogs]\n",
      "\n",
      "--------------------------------------------------\n",
      "\n"
     ]
    },
    {
     "name": "stderr",
     "output_type": "stream",
     "text": [
      "INFO:httpx:HTTP Request: POST http://127.0.0.1:11434/api/chat \"HTTP/1.1 200 OK\"\n"
     ]
    },
    {
     "name": "stdout",
     "output_type": "stream",
     "text": [
      "Question: 是否有影像檢測可準確區分 CCD 與其他神經退行性疾病？\n",
      "\n",
      "System Response:\n",
      "True\n",
      "\n",
      "雖然影像檢測可以協助診斷神經退行性疾病，但它們並不能完全準確區分犬認知功能障礙綜合症（CCD）與其他神經退行性疾病。原因在於許多神經退行性疾病的影像學特徵相似，例如腦部萎縮、白質病變等。\n",
      "\n",
      "不同的神經退行性疾病也可能表現出類似的臨床症狀和理化檢查結果，因此需要綜合考慮各種診斷工具和證據進行確診。圖片中顯示的MRI掃描，腦部萎縮區域（左）與其他神經退行性疾病的典型特徵相似。\n",
      "\n",
      "[reference: \"Canine Cognitive Dysfunction Syndrome\"[1]]\n",
      "\n",
      "--------------------------------------------------\n",
      "\n"
     ]
    },
    {
     "name": "stderr",
     "output_type": "stream",
     "text": [
      "INFO:httpx:HTTP Request: POST http://127.0.0.1:11434/api/chat \"HTTP/1.1 200 OK\"\n"
     ]
    },
    {
     "name": "stdout",
     "output_type": "stream",
     "text": [
      "Question: 皮質類固醇cortisol或應激荷爾蒙stress hormones是否可作為 CCD 的潛在診斷指標？\n",
      "\n",
      "System Response:\n",
      "False\n",
      "皮質類固醇（cortisol）或應激荷爾蒙（stress hormones）不是可靠的犬認知功能障礙綜合症（CCD）的診斷指標。雖然這些荷爾蒙在應激反應中扮演關鍵角色，但其水平不一定能直接預測 CCD。\n",
      "\n",
      "荷爾蒙水平的波動可能受到多種因素影響，包括生活環境、健康狀況和飲食等，並非特定於 CCD。因此，單一的荷爾蒙測量無法確保診斷準確性。\n",
      "\n",
      "[reference: \"Canine Cognitive Dysfunction Syndrome\" by the American Animal Hospital Association (AAHA)]\n",
      "\n",
      "--------------------------------------------------\n",
      "\n"
     ]
    },
    {
     "name": "stderr",
     "output_type": "stream",
     "text": [
      "INFO:httpx:HTTP Request: POST http://127.0.0.1:11434/api/chat \"HTTP/1.1 200 OK\"\n"
     ]
    },
    {
     "name": "stdout",
     "output_type": "stream",
     "text": [
      "Question: 有刻板形為的犬隻是否會增加CCD風險？\n",
      "\n",
      "System Response:\n",
      "True\n",
      "\n",
      "研究表明，有刻板形的犬隻可能增加犬類認知功能障礙綜合症（CCD）的風險。這是因為刻板形的犬隻更容易出現行為問題，如吵鬧、暴力和焦慮，這些問題與 CCD 的表現相似，可能導致誤診或延遲診斷。\n",
      "\n",
      "一些刻板形犬隻可能在早期發育中經歷額外的壓力和挑戰，這些因素可以增加其患 CCD 的風險。這種壓力可能包括過度訓練、不適當的社會化或遺傳因素。\n",
      "\n",
      "\n",
      "[reference: \"Canine Cognitive Dysfunction: A Review\"\n",
      "\n",
      "--------------------------------------------------\n",
      "\n"
     ]
    },
    {
     "name": "stderr",
     "output_type": "stream",
     "text": [
      "INFO:httpx:HTTP Request: POST http://127.0.0.1:11434/api/chat \"HTTP/1.1 200 OK\"\n"
     ]
    },
    {
     "name": "stdout",
     "output_type": "stream",
     "text": [
      "Question: 若家中老犬常在晚間吠叫、彷彿不安，以下哪項做法最優先？\n",
      "A. 搬家讓牠換新環境\n",
      "B. 夜間完全關燈並限制活動\n",
      "C. 先維持穩定環境並提供微弱光源\n",
      "D. 立即施打鎮靜劑\n",
      "\n",
      "System Response:\n",
      "C\n",
      "\n",
      "晚間吠叫、不安的犬可能是由多種原因引起，包括空氣污染、噪音干擾或環境變化。維持穩定環境並提供微弱光源可以幫助犬類舒適度提高，減少焦慮和不適感。\n",
      "\n",
      "提供穩定的照明可以幫助犬類保持日常節律，降低夜間不安的狀態。[reference: Canine Behavioral Medicine, 2nd Edition]\n",
      "\n",
      "--------------------------------------------------\n",
      "\n"
     ]
    },
    {
     "name": "stderr",
     "output_type": "stream",
     "text": [
      "INFO:httpx:HTTP Request: POST http://127.0.0.1:11434/api/chat \"HTTP/1.1 200 OK\"\n"
     ]
    },
    {
     "name": "stdout",
     "output_type": "stream",
     "text": [
      "Question: 在照顧失智犬時，若發現牠對日常指令反應變慢，下列哪種訓練原則較合適？\n",
      "A. 加大音量不斷重複指令\n",
      "B. 利用簡短口令並搭配手勢或嗅聞提示\n",
      "C. 堅持原有長句式指令不做改變\n",
      "D. 取消所有訓練\n",
      "\n",
      "System Response:\n",
      "B\n",
      "\n",
      "利用簡短口令並搭配手勢或嗅聞提示是適合照顧失智犬的訓練原則，因為這樣可以幫助狗更好地理解指令，並且減少了因為聽力和視覺問題導致的混淆。簡短口令可以讓狗以較低的認知負荷接受指令，而手勢或嗅聞提示可以作為補充，幫助狗更好地理解並回應。\n",
      "\n",
      "(Brain Aging and Cognition in Dogs, 2018)\n",
      "\n",
      "--------------------------------------------------\n",
      "\n"
     ]
    },
    {
     "name": "stderr",
     "output_type": "stream",
     "text": [
      "INFO:httpx:HTTP Request: POST http://127.0.0.1:11434/api/chat \"HTTP/1.1 200 OK\"\n"
     ]
    },
    {
     "name": "stdout",
     "output_type": "stream",
     "text": [
      "Question: 如果高齡犬經常在家裡亂撞傢俱，可能和下列哪種現象最相關？\n",
      "A. 單純故意搗蛋\n",
      "B. Thigmotaxis 或定向障礙\n",
      "C. 想吸引主人注意\n",
      "D. 正常老化行為，不需處理\n",
      "\n",
      "System Response:\n",
      "B\n",
      "\n",
      "這種行為可能與定向障礙有關，高齡犬的定向能力會下降，這可能導致他們無法判斷環境並造成亂撞傢俱的情況。\n",
      "\n",
      "定向障礙是犬類神經退行性疾病的一部分，可能與阿茲海默症相關。研究表明，犬隻的定向能力會隨著年齡增長而下降，這可能導致亂撞傢俱等問題。\n",
      "\n",
      "參考資料：[reference: canine cognitive dysfunction.pdf]\n",
      "\n",
      "--------------------------------------------------\n",
      "\n"
     ]
    },
    {
     "name": "stderr",
     "output_type": "stream",
     "text": [
      "INFO:httpx:HTTP Request: POST http://127.0.0.1:11434/api/chat \"HTTP/1.1 200 OK\"\n"
     ]
    },
    {
     "name": "stdout",
     "output_type": "stream",
     "text": [
      "Question: 老年犬食慾下降時，下列哪個建議最符合改善策略？\n",
      "A. 馬上更換飼料品牌且一次大量添購\n",
      "B. 在飼料中加入濃味香辛料刺激食慾\n",
      "C. 提高飼料溫度或加湯汁提升香氣\n",
      "D. 強迫餵食，防止餓到\n",
      "\n",
      "System Response:\n",
      "C\n",
      "提高飼料溫度或加湯汁提升香氣可以幫助老年犬恢復食慾。這種方法能夠增加口感和味道，刺激犬的嗅覺和味覺，从而促進食欲。這是因為老年犬可能出現味覺衰退或失去興趣，而調整飼料的溫度或添加湯汁可以改善氣味，增加吸引力。\n",
      "\n",
      "[reference: https://www.vetstream.com/tv/clinical-cases/dog-decerebral-cerebral-disorders-in-dogs/]\n",
      "\n",
      "--------------------------------------------------\n",
      "\n"
     ]
    },
    {
     "name": "stderr",
     "output_type": "stream",
     "text": [
      "INFO:httpx:HTTP Request: POST http://127.0.0.1:11434/api/chat \"HTTP/1.1 200 OK\"\n"
     ]
    },
    {
     "name": "stdout",
     "output_type": "stream",
     "text": [
      "Question: 想為失智犬提供認知刺激，下列哪種活動較為合適？\n",
      "A. 高強度障礙賽\n",
      "B. 短程嗅聞尋找遊戲\n",
      "C. 全日關籠休息\n",
      "D. 長時間游泳訓練\n",
      "\n",
      "System Response:\n",
      "B\n",
      "\n",
      "短程嗅聞尋找遊戲是一種低強度、易於犬類學習的活動，能夠刺激犬的認知功能。這種遊戲可以幫助犬兒保持積極性和興趣，並且可以根據犬的狀態進行調整。這種活動對於犬類尤其是老年犬或有認知功能障礙的犬來說，是一個合適的選擇。\n",
      "\n",
      "來源: [reference: Canine Cognitive Dysfunction]\n",
      "\n",
      "--------------------------------------------------\n",
      "\n"
     ]
    },
    {
     "name": "stderr",
     "output_type": "stream",
     "text": [
      "INFO:httpx:HTTP Request: POST http://127.0.0.1:11434/api/chat \"HTTP/1.1 200 OK\"\n"
     ]
    },
    {
     "name": "stdout",
     "output_type": "stream",
     "text": [
      "Question: 若在照顧過程中，老犬出現白天過度沉睡、夜間不安，下列哪種日常排程較能幫助調整牠的生理時鐘？\n",
      "A. 白天保持安靜，不要打擾牠\n",
      "B. 白天適度互動與散步，夜間營造安靜燈光環境\n",
      "C. 夜間一直陪玩，消耗牠體力\n",
      "D. 讓牠自行調整，不必干涉\n",
      "\n",
      "System Response:\n",
      "B\n",
      "\n",
      "白天適度互動與散步可以幫助老犬調整其生理時鐘，避免白天過度沉睡。這種活動可以刺激老犬的感官和運動系統，促進其身體對時間的認知。夜間營造安靜燈光環境則可以幫助老犬入睡，減少夜間不安的情況。\n",
      "\n",
      "參考文獻: \"Canine Cognitive Dysfunction\" 的治療與護理\n",
      "\n",
      "--------------------------------------------------\n",
      "\n"
     ]
    },
    {
     "name": "stderr",
     "output_type": "stream",
     "text": [
      "INFO:httpx:HTTP Request: POST http://127.0.0.1:11434/api/chat \"HTTP/1.1 200 OK\"\n"
     ]
    },
    {
     "name": "stdout",
     "output_type": "stream",
     "text": [
      "Question: 當犬隻顯現社交退縮、不想與主人或其他動物互動，下列哪項作法最不建議？\n",
      "A. 建立安全區域，給予牠主動選擇互動的空間\n",
      "B. 強迫牠與其他動物一起待在狹小籠子\n",
      "C. 慢慢引導牠做短暫互動並觀察反應\n",
      "D. 留意是否有身體不適的潛在原因\n",
      "\n",
      "System Response:\n",
      "A\n",
      "\n",
      "強迫牠與其他動物一起待在狹小籠子不適合，因為這可能會加劇犬隻的焦慮和恐懼感，進而使得社交退縮行為惡化。建議應該優先建立安全區域和慢慢引導牠進行互動，以避免造成額外的壓力或創傷。\n",
      "\n",
      "來源:ASPCA - Canine Cognitive Dysfunction (CCD)\n",
      "\n",
      "--------------------------------------------------\n",
      "\n"
     ]
    },
    {
     "name": "stderr",
     "output_type": "stream",
     "text": [
      "INFO:httpx:HTTP Request: POST http://127.0.0.1:11434/api/chat \"HTTP/1.1 200 OK\"\n"
     ]
    },
    {
     "name": "stdout",
     "output_type": "stream",
     "text": [
      "Question: 若狗狗老化後，對於原本熟悉的家中樓梯顯得恐懼，下列哪種協助方式較適宜？\n",
      "A. 馬上拆除樓梯\n",
      "B. 讓牠自己多摔幾次就習慣\n",
      "C. 設置防滑地墊或安全柵欄，並以牽繩慢慢引導\n",
      "D. 完全禁止上下樓\n",
      "\n",
      "System Response:\n",
      "C\n",
      "\n",
      "選擇 C 是因為它提供了一個平衡的解決方案，既能夠幫助狗狗順暢地上下樓梯，又能夠避免讓牠們感到恐懼和受傷。設置防滑地墊或安全柵欄，可以減少摔倒的風險，而牽繩慢慢引導則可以幫助狗狗逐步適應新的環境。\n",
      "\n",
      "此方法基於動物行為學的原理，鼓勵溫和而持續的改變，以避免恐懼的惡化（Bekoff, 2001）。\n",
      "\n",
      "--------------------------------------------------\n",
      "\n"
     ]
    },
    {
     "name": "stderr",
     "output_type": "stream",
     "text": [
      "INFO:httpx:HTTP Request: POST http://127.0.0.1:11434/api/chat \"HTTP/1.1 200 OK\"\n"
     ]
    },
    {
     "name": "stdout",
     "output_type": "stream",
     "text": [
      "Question: 對老年犬的居家空間規劃，下列何者較能減少牠碰撞或迷路？\n",
      "A. 家具經常大幅度移動\n",
      "B. 在地面放大量雜物，增加刺激\n",
      "C. 設置路徑指示(小夜燈)並儘量維持動線固定\n",
      "D. 不做任何改變，讓牠自己適應\n",
      "\n",
      "System Response:\n",
      "C\n",
      "設置路徑指示（小夜燈）能夠幫助老年犬辨識其居家空間，並提供明確的導航途徑，減少碰撞或迷路的風險。由於老年犬可能會出現視力和動作協調能力下降的情況，適當的路徑指示能夠幫助牠們更好地定位並安全移動。\n",
      "\n",
      "[reference: Canine Cognitive Dysfunction.pdf]\n",
      "\n",
      "--------------------------------------------------\n",
      "\n"
     ]
    },
    {
     "name": "stderr",
     "output_type": "stream",
     "text": [
      "INFO:httpx:HTTP Request: POST http://127.0.0.1:11434/api/chat \"HTTP/1.1 200 OK\"\n"
     ]
    },
    {
     "name": "stdout",
     "output_type": "stream",
     "text": [
      "Question: 想觀察老犬是否有 CCD 初期症狀，下列哪種行為跡象最能代表可能的認知改變？\n",
      "A. 偶爾打瞌睡\n",
      "B. 短暫呆站\n",
      "C. 在熟悉環境中頻繁迷路或定向困難\n",
      "D. 喜歡玩新的玩具\n",
      "\n",
      "System Response:\n",
      "C\n",
      "\n",
      "老犬出現在熟悉環境中頻繁迷路或定向困難是CCD的常見早期症狀，因為這些動物可能會忘記日常活動場所、家人的臉孔和名字，甚至難以回家的路。這種行為跡象表明老犬的認知功能正在下降，是需要馬上進行檢查的警訊。\n",
      "\n",
      "[reference: Canine Cognitive Dysfunction, Cornell University College of Veterinary Medicine]\n",
      "\n",
      "--------------------------------------------------\n",
      "\n"
     ]
    },
    {
     "name": "stderr",
     "output_type": "stream",
     "text": [
      "INFO:httpx:HTTP Request: POST http://127.0.0.1:11434/api/chat \"HTTP/1.1 200 OK\"\n"
     ]
    },
    {
     "name": "stdout",
     "output_type": "stream",
     "text": [
      "Question: 下列何者不是犬隻認知功能障礙 (CCD) 常見的主要症狀？\n",
      "A. 睡眠—覺醒週期顛倒\n",
      "B. 嚴重口腔潰瘍\n",
      "C. 對熟悉環境產生定向障礙\n",
      "D. 社交互動異常\n",
      "\n",
      "System Response:\n",
      "B\n",
      "\n",
      "犬隻認知功能障礙 (CCD) 的症狀包括記憶力衰退、定向能力下降、行為變化等，但嚴重口腔潰瘍並不是典型的 CCD 症狀。口腔潰瘍可能與其他健康問題相關，例如牙齒疾病或口腔衛生問題。\n",
      "\n",
      "來源: [Canine Cognitive Dysfunction (CCD) - American Animal Hospital Association](https://www.aaha.org/animal-owners/canine-cognitive-dysfunction/)\n",
      "\n",
      "--------------------------------------------------\n",
      "\n"
     ]
    },
    {
     "name": "stderr",
     "output_type": "stream",
     "text": [
      "INFO:httpx:HTTP Request: POST http://127.0.0.1:11434/api/chat \"HTTP/1.1 200 OK\"\n"
     ]
    },
    {
     "name": "stdout",
     "output_type": "stream",
     "text": [
      "Question: 關於犬隻神經退行性變化，下列哪一項病理機制與人類阿茲海默症最相近？\n",
      "A. 闌尾炎\n",
      "B. β-amyloid 沉積與神經炎症\n",
      "C. 消化性潰瘍\n",
      "D. 血糖過低\n",
      "\n",
      "System Response:\n",
      "B\n",
      "\n",
      "神經退行性變化（neurodegenerative disorder）是一類影響大腦功能的疾病，包括犬隻神經退行性變化。阿茲海默症是一種人類神經退行性變化，其特徵是β-amyloid蛋白沉積和神經炎症。這兩者都涉及腦部蛋白質異常沉積和炎症反應。\n",
      "\n",
      "選項B中的β-amyloid沉積與神經炎症是人類阿茲海默症的病理機制，与犬隻神經退行性變化中，特別是CCD（犬認知功能障礙綜合症）的特點最為相似。\n",
      "\n",
      "參考來源：[1] \"Canine Cognitive Dysfunction\" (CCD) in Veterinary Clinics: Small Animal Practice\n",
      "\n",
      "--------------------------------------------------\n",
      "\n"
     ]
    },
    {
     "name": "stderr",
     "output_type": "stream",
     "text": [
      "INFO:httpx:HTTP Request: POST http://127.0.0.1:11434/api/chat \"HTTP/1.1 200 OK\"\n"
     ]
    },
    {
     "name": "stdout",
     "output_type": "stream",
     "text": [
      "Question: 對於犬腦部影像學診斷 CCD，下列哪種工具最常用於檢測大腦萎縮或病灶？\n",
      "A. PET (正子掃描)\n",
      "B. MRI (核磁共振)\n",
      "C. X 光\n",
      "D. 腹部超音波\n",
      "\n",
      "System Response:\n",
      "B\n",
      "\n",
      "MRI (核磁共振) 是目前最常用於檢測犬腦部病變、萎縮或病灶的工具，因為它能夠清晰地顯示大腦的解剖結構和功能。MRI 可以通過多種序列（如 T1、T2 等）進行成像，提供多方面的資訊。\n",
      "\n",
      "來源：[reference: Canine cognitive dysfunction syndrome]\n",
      "\n",
      "注意：犬認知功能障礙綜合症是一個神經退行性疾病，其特徵是大腦萎縮和病灶形成。MRI 是檢測這些改變的最佳工具之一。\n",
      "\n",
      "--------------------------------------------------\n",
      "\n"
     ]
    },
    {
     "name": "stderr",
     "output_type": "stream",
     "text": [
      "INFO:httpx:HTTP Request: POST http://127.0.0.1:11434/api/chat \"HTTP/1.1 200 OK\"\n"
     ]
    },
    {
     "name": "stdout",
     "output_type": "stream",
     "text": [
      "Question: 腸道菌群與犬的認知健康的關聯研究，多認為透過哪條通路影響大腦？\n",
      "A. 骨骼肌收縮\n",
      "B. 腸—腦軸 (Gut-Brain Axis)\n",
      "C. 角膜反射\n",
      "D. 肺部換氣\n",
      "\n",
      "System Response:\n",
      "B\n",
      "\n",
      "腸—腦軸（Gut-Brain Axis）是指腸道菌群與大腦之間的複雜連結，影響認知健康。研究表明，腸道菌群可以透過血液和神經系統傳遞信號到大腦，影響情緒、記憶力、注意力等方面。這種連結被稱為微生物-主機交互作用（Microbiome-Host Interaction），它對於犬的認知健康有著重要的影響。\n",
      "\n",
      "參考文獻：[reference: https://www.sciencedirect.com/science/article/pii/B9780128116357000068]\n",
      "\n",
      "--------------------------------------------------\n",
      "\n"
     ]
    },
    {
     "name": "stderr",
     "output_type": "stream",
     "text": [
      "INFO:httpx:HTTP Request: POST http://127.0.0.1:11434/api/chat \"HTTP/1.1 200 OK\"\n"
     ]
    },
    {
     "name": "stdout",
     "output_type": "stream",
     "text": [
      "Question: 老年犬 CCD 行為評估量表通常會衡量下列哪些面向？\n",
      "A. 體色變化和毛量\n",
      "B. 性別和體重\n",
      "C. 定向能力、互動意願、睡眠模式\n",
      "D. 牙齒生長速度\n",
      "\n",
      "System Response:\n",
      "C\n",
      "\n",
      "老年犬認知功能障礙綜合症（CCD）的行為評估量表通常會評估犬隻的定向能力、互動意願和睡眠模式，以判斷其認知功能的狀態。這些面向對於診斷和監測 CCD 的進展非常重要。定向能力有助於了解犬隻的問題識別和解決能力，互動意願可以評估犬隻的情緒和社交行為，而睡眠模式則可能反映出其內在狀態。\n",
      "\n",
      "來源：\"Canine Cognitive Dysfunction Syndrome\" by P. L. Padilla, et al., in \"Veterinary Clinics: Small Animal Practice\"\n",
      "\n",
      "--------------------------------------------------\n",
      "\n"
     ]
    },
    {
     "name": "stderr",
     "output_type": "stream",
     "text": [
      "INFO:httpx:HTTP Request: POST http://127.0.0.1:11434/api/chat \"HTTP/1.1 200 OK\"\n"
     ]
    },
    {
     "name": "stdout",
     "output_type": "stream",
     "text": [
      "Question: 老年犬若深夜嚎叫，照護者可以嘗試在牠活動區放置淡光夜燈，並增加可摸到的熟悉物品來降低不安，對嗎？\n",
      "\n",
      "System Response:\n",
      "True\n",
      "\n",
      "老年犬深夜嚎叫可能是由於感覺、認知或身體健康問題引起的。增加可摸到的熟悉物品可以提供犬隻安全感，並幫助牠們放鬆，而淡光夜燈則可以模擬白天環境，減少不安。\n",
      "\n",
      "這些方法基於老年犬的行為學習原理和照護經驗。例如，增加熟悉物品和環境的穩定性可以幫助犬隻管理焦慮，而淡光夜燈則可模擬日常活動時間。\n",
      "\n",
      "[reference: \"老年犬的照護與健康管理\"]\n",
      "\n",
      "--------------------------------------------------\n",
      "\n"
     ]
    },
    {
     "name": "stderr",
     "output_type": "stream",
     "text": [
      "INFO:httpx:HTTP Request: POST http://127.0.0.1:11434/api/chat \"HTTP/1.1 200 OK\"\n"
     ]
    },
    {
     "name": "stdout",
     "output_type": "stream",
     "text": [
      "Question: 是否只要老犬開始忘記如廁地點，就等同於罹患 CCD，無需檢查其他病因？\n",
      "\n",
      "System Response:\n",
      "**False**\n",
      "\n",
      "犬老化時可能會出現如廁地點的忘記，稱為尿失禁或便秘，但這不一定是犬認知功能障礙綜合症 (CCD)。其他原因包括膀胱問題、神經系統疾病、感染、藥物副作用等，也可能導致老犬如廁地點的忘記。\n",
      "\n",
      "在進行診斷前，需要排除這些因素，並進行充分評估，以確定是否為 CCD。只有經過徹底檢查和評估後，才能作出正確的診斷。\n",
      "\n",
      "[Reference: \"Canine Cognitive Dysfunction Syndrome\" by American Animal Hospital Association]\n",
      "\n",
      "--------------------------------------------------\n",
      "\n"
     ]
    },
    {
     "name": "stderr",
     "output_type": "stream",
     "text": [
      "INFO:httpx:HTTP Request: POST http://127.0.0.1:11434/api/chat \"HTTP/1.1 200 OK\"\n"
     ]
    },
    {
     "name": "stdout",
     "output_type": "stream",
     "text": [
      "Question: 若狗狗出現刻板繞圈，飼主應先檢查是否有焦慮和神經退化因素，而非僅用力制止，對嗎？ \n",
      "\n",
      "\n",
      "System Response:\n",
      "True\n",
      "\n",
      "刻板繞圈是一種常見的犬行為問題，可能由多個因素引起，包括焦慮、神經退化、缺乏訓練或刺激不足等。檢查是否有焦慮和神經退化因素是初步評估的重要一步，以便制定適當的治療方案。\n",
      "\n",
      "例如，如果狗狗出現繞圈行為，可能是由於過度興奮、恐懼或缺乏刺激引起的。檢查相關的醫學史和身體狀況，可以幫助飼主和獸醫找出根本原因。根據調查結果，進行適當的訓練、治療或改善環境可以幫助狗狗解決繞圈行為。\n",
      "\n",
      "[reference: American Veterinary Medical Association (AVMA)]\n",
      "\n",
      "--------------------------------------------------\n",
      "\n"
     ]
    },
    {
     "name": "stderr",
     "output_type": "stream",
     "text": [
      "INFO:httpx:HTTP Request: POST http://127.0.0.1:11434/api/chat \"HTTP/1.1 200 OK\"\n"
     ]
    },
    {
     "name": "stdout",
     "output_type": "stream",
     "text": [
      "Question: 老年犬出現定向障礙後，是否可以考慮在家中大幅更動家具，以刺激牠重新學習、避免認知惰性？\n",
      "\n",
      "System Response:\n",
      "False\n",
      "定向障礙是犬認知功能障礙綜合症（CCD）的常見症狀之一，與家具更動無直接關係。老年犬的定向障礙可能與神經退行性變化、感染或其他健康問題相關。\n",
      "\n",
      "在管理和治療定向障礙時，我們應該著重於確保犬隻保持良好的身體狀況，並提供適當的照顧和支持。家具更動不一定能夠刺激老年犬重新學習，反而可能增加壓力和不安。\n",
      "\n",
      "[reference: Canine Cognitive Dysfunction Syndrome (2018)]\n",
      "\n",
      "--------------------------------------------------\n",
      "\n"
     ]
    },
    {
     "name": "stderr",
     "output_type": "stream",
     "text": [
      "INFO:httpx:HTTP Request: POST http://127.0.0.1:11434/api/chat \"HTTP/1.1 200 OK\"\n"
     ]
    },
    {
     "name": "stdout",
     "output_type": "stream",
     "text": [
      "Question: 對於失智犬是否可適度進行嗅聞遊戲、慢速散步等活動，以維持身心機能並降低焦慮？\n",
      "\n",
      "System Response:\n",
      "True\n",
      "\n",
      "嗅聞遊戲和慢速散步對於失智犬確實有幫助，能夠改善其身心機能。這些活動能夠刺激犬的感官和認知功能，降低焦慮和不適。\n",
      "\n",
      "嗅聞遊戲可以幫助犬狗保持興趣並釋放壓力，而慢速散步則有助於改善血液循環、骨骼健康和肌肉力量。這些活動還能夠增加人與犬的互動時間，增進溝通。\n",
      "\n",
      "研究表明，適度的嗅聞遊戲和慢速散步對於失智犬的照護非常重要。例如，[Reference: Canine Cognitive Dysfunction (CCD) in Veterinary Practice.pdf] 提到，這些活動能夠改善犬的生活質量和舒適度。\n",
      "\n",
      "相關圖片：一隻老年犬正在參與嗅聞遊戲，其面部表現出興趣和樂趣。\n",
      "\n",
      "--------------------------------------------------\n",
      "\n"
     ]
    },
    {
     "name": "stderr",
     "output_type": "stream",
     "text": [
      "INFO:httpx:HTTP Request: POST http://127.0.0.1:11434/api/chat \"HTTP/1.1 200 OK\"\n"
     ]
    },
    {
     "name": "stdout",
     "output_type": "stream",
     "text": [
      "Question: 如果老犬突然對家人出現攻擊行為，建議先直接用藥物鎮靜，而非檢查可能的疼痛或認知衰退問題。是否？\n",
      "\n",
      "System Response:\n",
      "False\n",
      "\n",
      "犬突然出現攻擊行為，應該先進行全面評估，排除可能的疼痛或認知衰退問題。這樣可以幫助獸醫瞭解病情根源，並制定合適的治療方案。\n",
      "\n",
      "例如：檢查是否有口腔疾病、關節炎或神經系統問題等潛在原因。評估犬的行為模式和環境變化，也可以幫助確定攻擊行為的原因。\n",
      "\n",
      "[reference: Canine Cognitive Dysfunction Syndrome (CCD) Diagnosis and Management, American Animal Hospital Association]\n",
      "\n",
      "圖片：一張表格，列出犬的可能行為問題、潛在原因和評估方法。\n",
      "\n",
      "--------------------------------------------------\n",
      "\n"
     ]
    },
    {
     "name": "stderr",
     "output_type": "stream",
     "text": [
      "INFO:httpx:HTTP Request: POST http://127.0.0.1:11434/api/chat \"HTTP/1.1 200 OK\"\n"
     ]
    },
    {
     "name": "stdout",
     "output_type": "stream",
     "text": [
      "Question: 隨年齡增長，老犬對溫度的感知力可能下降，並影響夜間休息品質，對嗎。\n",
      "\n",
      "System Response:\n",
      "True\n",
      "\n",
      "隨著老年犬的成長，溫度感知力可能會下降，這與其神經退行性變化有關。這種情況可能導致夜間休息品質受影響，因為老犬可能無法適應環境中的溫度變化。\n",
      "\n",
      "這種現象可能是由於老年犬的神經系統逐漸退行，包括了溫度感覺和調節機制的衰退。研究表明，老年犬更容易因環境溫度而感到不舒服 [reference: Age-related changes in thermoregulation in dogs].\n",
      "\n",
      "[reference: 你的來源名]\n",
      "\n",
      "--------------------------------------------------\n",
      "\n"
     ]
    },
    {
     "name": "stderr",
     "output_type": "stream",
     "text": [
      "INFO:httpx:HTTP Request: POST http://127.0.0.1:11434/api/chat \"HTTP/1.1 200 OK\"\n"
     ]
    },
    {
     "name": "stdout",
     "output_type": "stream",
     "text": [
      "Question: 長期失智的犬隻，最好完全隔離在室內，不要再帶出門或與其他犬隻互動，正確嗎。\n",
      "\n",
      "System Response:\n",
      "False。隔離犬隻可能會加劇其失智的情況。\n",
      "\n",
      "長期的社會隔離可能會使犬隻的認知功能障礙綜合症（CCD）惡化，導致情緒和行為問題惡化。犬隻需要適當的刺激和社交活動來保持其心理健康，而不是完全隔離。\n",
      "\n",
      "[reference: \"Cognitive Dysfunction in Dogs\" by Dr. Debra M. Eldredge]\n",
      "\n",
      "圖片：一張照片顯示一名老年犬隻與主人一起進行認知訓練，增強其認知功能。\n",
      "\n",
      "--------------------------------------------------\n",
      "\n"
     ]
    },
    {
     "name": "stderr",
     "output_type": "stream",
     "text": [
      "INFO:httpx:HTTP Request: POST http://127.0.0.1:11434/api/chat \"HTTP/1.1 200 OK\"\n"
     ]
    },
    {
     "name": "stdout",
     "output_type": "stream",
     "text": [
      "Question: NLRP3 炎症小體在犬的腦部炎症研究中被視為不重要，與失智無關對嗎。 \n",
      "\n",
      "System Response:\n",
      "False\n",
      "\n",
      "NLRP3 炎症小體確實與犬的腦部炎症有關，特別是在犬認知功能障礙綜合症（CCD）的研究中。研究表明，NLRP3 炎症小體在腦部炎症過程中發揮著重要作用，它可以引發炎症反應並促進神經退行性變化。\n",
      "\n",
      "[Experience: NLRP3 在犬的腦部炎症過程中的作用]\n",
      "\n",
      "圖片：一張顯示NLRP3 炎症小體在腦部組織中的免疫螢光染色影像，突出了其在炎症反應中發揮的關鍵角色。\n",
      "\n",
      "參考文獻：[1] \"NLRP3 inflammasome activation in canine brain\" (2020)\n",
      "\n",
      "註：請注意，目前仍然需要更多研究以進一步確認 NLRP3 炎症小體在犬腦部炎症中的作用。\n",
      "\n",
      "--------------------------------------------------\n",
      "\n"
     ]
    },
    {
     "name": "stderr",
     "output_type": "stream",
     "text": [
      "INFO:httpx:HTTP Request: POST http://127.0.0.1:11434/api/chat \"HTTP/1.1 200 OK\"\n"
     ]
    },
    {
     "name": "stdout",
     "output_type": "stream",
     "text": [
      "Question: CCD 是否在臨床上沒有任何行為問卷或量表能夠協助診斷，必須全靠 MRI 才能確診？\n",
      "\n",
      "System Response:\n",
      "False\n",
      "雖然MRI是診斷犬認知功能障礙綜合症（CCD）的重要工具，但並非唯一方法。有許多行為問卷或量表可協助醫生評估犬隻的認知功能，例如Canine Cognitive Dysfunction Rating Scale (CCDRS)和Dog Behavioral Questionnaire (DBQ)等。\n",
      "\n",
      "這些工具可以幫助醫生判斷犬隻的認知功能狀態，並與MRI結果綜合評估，以確定診斷。然而，這些工具並非萬能，需要根據個案進行調整和驗證。\n",
      "\n",
      "[Reference: \"Canine Cognitive Dysfunction Rating Scale (CCDRS) - A Tool for the Assessment of Canine Cognitive Decline\" ]\n",
      "\n",
      "圖片：一張犬隻正在接受行為評估的照片，評估師正在填寫表格，以評估犬隻的情況。\n",
      "\n",
      "--------------------------------------------------\n",
      "\n"
     ]
    },
    {
     "name": "stderr",
     "output_type": "stream",
     "text": [
      "INFO:httpx:HTTP Request: POST http://127.0.0.1:11434/api/chat \"HTTP/1.1 200 OK\"\n"
     ]
    },
    {
     "name": "stdout",
     "output_type": "stream",
     "text": [
      "Question: 部分研究認為抗氧化劑與神經保護劑的結合療法，有機會延緩犬的認知功能衰退對嗎？\n",
      "\n",
      "System Response:\n",
      "True\n",
      "\n",
      "抗氧化劑與神經保護劑的結合療法被認為是一種可能延緩犬認知功能衰退的方法。抗氧化劑能夠減少氧自由基對大腦的傷害，而神經保護劑則能夠促進神經生長和修復。\n",
      "\n",
      "這種療法的理論基礎是動物身體內部有大量的氧自由基會導致細胞損壞，當然包括神經系統。研究表明，使用抗氧化劑可以降低氧自由基的水平，從而減少對神經組織的傷害。\n",
      "\n",
      "然而，我們需要注意的是，目前尚無針對犬類的長期研究證實這種療法能夠有效延緩認知功能衰退。 [reference: \"抗氧化劑與神經保護劑的結合療法\" (2022)]\n",
      "\n",
      "--------------------------------------------------\n",
      "\n"
     ]
    },
    {
     "name": "stderr",
     "output_type": "stream",
     "text": [
      "INFO:httpx:HTTP Request: POST http://127.0.0.1:11434/api/chat \"HTTP/1.1 200 OK\"\n"
     ]
    },
    {
     "name": "stdout",
     "output_type": "stream",
     "text": [
      "Question: 下列哪一項研究發現與犬隻失智 (CCD) 病理最相關，並常被拿來比照人類阿茲海默症的核心變化？\n",
      "A. 體重指數 (Body Condition Score)\n",
      "B. β-amyloid 蛋白沉積\n",
      "C. 高血糖指數 (Hyperglycemia)\n",
      "D. 肝臟酵素升高\n",
      "\n",
      "System Response:\n",
      "B\n",
      "\n",
      "體液β-amyloid 蛋白沉積是犬隻失智症（CCD）的核心變化，與人類阿茲海默症的病理變化相似。這種蛋白沉積會導致神經元受損和死亡，進而影響記憶力、學習能力等認知功能。β-amyloid 蛋白沉積是犬隻失智症的重要特徵，常被用於診斷和研究。\n",
      "\n",
      "[reference: \"Canine Cognitive Dysfunction\" by Dr. Debra M. Eldredge]\n",
      "\n",
      "--------------------------------------------------\n",
      "\n"
     ]
    },
    {
     "name": "stderr",
     "output_type": "stream",
     "text": [
      "INFO:httpx:HTTP Request: POST http://127.0.0.1:11434/api/chat \"HTTP/1.1 200 OK\"\n"
     ]
    },
    {
     "name": "stdout",
     "output_type": "stream",
     "text": [
      "Question: 在評估犬隻 CCD 的臨床症狀時，下列哪一項行為面向最常被列為主要觀察指標之一？\n",
      "A. 毛色是否變白\n",
      "B. 飲水量的增加\n",
      "C. 定向能力 (Orientation) 與空間辨識度\n",
      "D. 心跳與呼吸速率\n",
      "\n",
      "System Response:\n",
      "C\n",
      "\n",
      "犬隻的定向能力 (Orientation) 和空間辨識度是評估犬隻認知功能障礙綜合症 (CCD) 的重要指標之一。這些行為面向能夠反映犬隻的情緒和認知狀態，例如是否有方向感、記憶力和適應能力等。通過觀察這些方面的變化，可以幫助診斷犬隻是否出現 CCD 的症狀。\n",
      "\n",
      "來源: [reference: Canine Cognitive Dysfunction.pdf]\n",
      "\n",
      "--------------------------------------------------\n",
      "\n"
     ]
    },
    {
     "name": "stderr",
     "output_type": "stream",
     "text": [
      "INFO:httpx:HTTP Request: POST http://127.0.0.1:11434/api/chat \"HTTP/1.1 200 OK\"\n"
     ]
    },
    {
     "name": "stdout",
     "output_type": "stream",
     "text": [
      "Question: 依據關於老犬腸—腦軸 (Gut-Brain Axis) 的研究，下列哪種方法可能有助於改善老犬在認知功能退化上的風險？\n",
      "A. 不斷嘗試高強度競賽\n",
      "B. 採用單一蛋白質來源的快速減肥配方\n",
      "C. 添加特定益生菌或調整腸道微生物群\n",
      "D. 完全仰賴鎮靜藥物穩定情緒\n",
      "\n",
      "System Response:\n",
      "C\n",
      "老犬腸—腦軸 (Gut-Brain Axis) 研究指出，腸道健康與大腦功能有密切的關係。添加特定益生菌或調整腸道微生物群可以幫助改善老犬在認知功能退化上的風險。這種方法被稱為心理-免疫學療法，可以通過調節腸道健康促進大腦健康。\n",
      "\n",
      "[參考文獻: \"Gut-brain axis in dogs\" by de Meij, T. G. J., & van der Velden, M. A. (2016).]\n",
      "\n",
      "圖片：一張老犬正在吃益生菌餅，代表著腸道健康與大腦功能的連結。\n",
      "\n",
      "--------------------------------------------------\n",
      "\n"
     ]
    },
    {
     "name": "stderr",
     "output_type": "stream",
     "text": [
      "INFO:httpx:HTTP Request: POST http://127.0.0.1:11434/api/chat \"HTTP/1.1 200 OK\"\n"
     ]
    },
    {
     "name": "stdout",
     "output_type": "stream",
     "text": [
      "Question: 文獻中提到犬隻認知功能障礙 (CCD) 與中樞神經免疫反應的關聯，下列哪種細胞或炎症小體常被視作潛在研究重點？\n",
      "A. Osteoclast 骨細胞\n",
      "B. Microglia 與 NLRP3 inflammasome\n",
      "C. 肌肉纖維與 CK (Creatine Kinase)\n",
      "D. 紅血球大小 (MCV)\n",
      "\n",
      "System Response:\n",
      "B\n",
      "\n",
      "文獻中提到犬隻認知功能障礙 (CCD) 與中樞神經免疫反應的關聯，研究者們正在探索中樞神經系統中炎症機制與 CCD 之間的關聯。Microglia 是中樞神經系統的第一型免疫細胞，其活化和功能異常可能是 CCD 的潛在原因之一。NLRP3 inflammasome是一種複合體，參與了發生炎症反應的調節。它們的活化會導致炎症介質的釋放，從而影響中樞神經系統的功能。\n",
      "\n",
      "[reference: https://www.ncbi.nlm.nih.gov/pmc/articles/PMC6451918/]\n",
      "\n",
      "--------------------------------------------------\n",
      "\n"
     ]
    },
    {
     "name": "stderr",
     "output_type": "stream",
     "text": [
      "INFO:httpx:HTTP Request: POST http://127.0.0.1:11434/api/chat \"HTTP/1.1 200 OK\"\n"
     ]
    },
    {
     "name": "stdout",
     "output_type": "stream",
     "text": [
      "Question: 犬隻服用人類認知增強藥物（如前驅膽鹼類、抗氧化劑等）已被證實能完全逆轉老犬的 CCD 症狀，正確嗎。\n",
      "\n",
      "System Response:\n",
      "False\n",
      "\n",
      "目前尚未有任何科學證據表明犬隻服用人類認知增強藥物能夠完全逆轉老犬的 CCD 症狀。這些藥物可能對於某些個體提供短期改善，但長期來說效果並不穩定，且可能出現副作用。\n",
      "\n",
      "犬隻的 CCD是一種複雜的疾病，需要綜合治療和管理。目前主要的治療方法包括行為治療、藥物治療（如塞連他嗪和阿米替林）和改善生活環境等。\n",
      "\n",
      "參考:[reference: Canine Cognitive Dysfunction Syndrome.pdf]\n",
      "\n",
      "--------------------------------------------------\n",
      "\n"
     ]
    },
    {
     "name": "stderr",
     "output_type": "stream",
     "text": [
      "INFO:httpx:HTTP Request: POST http://127.0.0.1:11434/api/chat \"HTTP/1.1 200 OK\"\n"
     ]
    },
    {
     "name": "stdout",
     "output_type": "stream",
     "text": [
      "Question: 針對犬隻失智 (CCD) 的診斷，是否可以單靠 MRI 或 CT 等影像學觀察大腦萎縮或斑塊沉積，即可準確區分 CCD 與其他神經退化疾病。\n",
      "\n",
      "System Response:\n",
      "True\n",
      "\n",
      "單靠 MRI 或 CT 等影像學觀察大腦萎縮或斑塊沉積不足以準確區分犬隻失智 (CCD) 與其他神經退化疾病。因為許多神經退化疾病都會導致類似的腦部結構變化，例如腦垂腺瘤、腦血管疾病等。\n",
      "\n",
      "影像學檢查可以提供一些線索，但需要結合臨床表現和實驗室檢查結果才能進行確診。例如，CCD 的患者可能會出現記憶力和認知功能的下降，而這些症狀與其他神經退化疾病可能有所不同。\n",
      "\n",
      "因此，影像學檢查應該與臨床評估結合使用，以取得更準確的診斷結果。[reference: Canine Cognitive Dysfunction Syndrome]\n",
      "\n",
      "圖片：一張 MRI掃描結果，顯示大腦萎縮區域（紅色標記），但這種變化可能出現在多種神經退化疾病中，需要結合臨床表現進行診斷。\n",
      "\n",
      "--------------------------------------------------\n",
      "\n",
      "=== 測試結果 ===\n",
      "    id type answers predicted  is_correct\n",
      "5    6   是非    True      True           1\n",
      "6    7   是非    True      True           1\n",
      "7    8   是非    True     False           0\n",
      "8    9   是非    True     False           0\n",
      "11  12   是非   False      True           0\n",
      "12  13   是非   False      True           0\n",
      "13  14   是非   False      True           0\n",
      "15  16   是非    True     False           0\n",
      "16  17   是非    True      True           1\n",
      "22  24   選擇       C         C           1\n",
      "23  25   選擇       B         B           1\n",
      "24  26   選擇       B         B           1\n",
      "25  27   選擇       C         C           1\n",
      "26  28   選擇       B         B           1\n",
      "27  29   選擇       B         B           1\n",
      "28  30   選擇       B         A           0\n",
      "29  31   選擇       C         C           1\n",
      "30  32   選擇       C         C           1\n",
      "31  33   選擇       C         C           1\n",
      "32  34   選擇       B         B           1\n",
      "33  35   選擇       B         B           1\n",
      "34  36   選擇       B         B           1\n",
      "35  37   選擇       B         B           1\n",
      "36  38   選擇       C         C           1\n",
      "37  39   是非    True      True           1\n",
      "38  40   是非   False     False           1\n",
      "39  41   是非    True      True           1\n",
      "40  42   是非   False     False           1\n",
      "41  43   是非    True      True           1\n",
      "42  44   是非   False     False           1\n",
      "43  45   是非    True      True           1\n",
      "44  46   是非   False     False           1\n",
      "45  47   是非   False     False           1\n",
      "46  48   是非   False     False           1\n",
      "47  49   是非    True      True           1\n",
      "49  51   選擇       B         B           1\n",
      "50  52   選擇       C         C           1\n",
      "51  53   選擇       C         C           1\n",
      "52  54   選擇       B         B           1\n",
      "53  55   是非   False     False           1\n",
      "54  56   是非   False      True           0\n",
      "\n",
      "共 41 題，正確 33 題，Accuracy = 0.80\n",
      "結果已儲存 test_result_baseline.csv\n"
     ]
    }
   ],
   "source": [
    "def parse_llm_answer(llm_response: str, q_type: str) -> str:\n",
    "    \"\"\"\n",
    "    根據題型 (選擇 or 是非)，從 LLM 的回覆字串中解析出可能的最終答案。\n",
    "    \"\"\"\n",
    "\n",
    "    # 把回覆都轉小寫，以便搜尋\n",
    "    text_lower = llm_response.lower().strip()\n",
    "    cleaned = llm_response.strip()\n",
    "    \n",
    "    # 定義對應字典\n",
    "    positive_responses = {'yes', '是', '對', 'true','True','Yes'}\n",
    "    negative_responses = {'no', '否', '不對', 'false','False','No'}\n",
    "    \n",
    "    if q_type == \"選擇\":\n",
    "       \n",
    "        # 1) 先去除可能的全形/半形混雜、移除多餘符號等（可選）\n",
    "        #    下面先做個最基本的 strip() 處理\n",
    "        cleaned = llm_response.strip()\n",
    "\n",
    "        # 2) 建立 Regex：\n",
    "        #    - `^[ \\t]*(A|B|C|D)[ \\t]*$`：代表這一行(含前後空白)只有 A/B/C/D\n",
    "        #    - (?m) 代表 MULTILINE 模式，使 ^ 和 $ 可以匹配每一行的開頭與結尾\n",
    "        pattern = re.compile(r'^[ \\t]*(A|B|C|D)[ \\t]*$', re.MULTILINE)\n",
    "\n",
    "        # 3) 搜尋\n",
    "        match = pattern.search(cleaned)\n",
    "        if match:\n",
    "            # group(1) 會是 'A' or 'B' or 'C' or 'D'\n",
    "            return match.group(1)\n",
    "        else:\n",
    "            return \"UNKNOWN\"\n",
    "    \n",
    "    elif q_type == \"是非\":\n",
    "        # 將輸入的回應斷詞，檢查是否包含正向或負向的關鍵詞\n",
    "        words = re.findall(r'\\w+', text_lower)  # 取出所有單字\n",
    "        \n",
    "        # 如果找到任何正面回應\n",
    "        if any(word in positive_responses for word in words):\n",
    "            return \"True\"\n",
    "        \n",
    "        # 如果找到任何負面回應\n",
    "        if any(word in negative_responses for word in words):\n",
    "            return \"False\"\n",
    "        \n",
    "        return \"UNKNOWN\"\n",
    "    \n",
    "    else:\n",
    "        return \"UNKNOWN\"\n",
    "def main():\n",
    "        df = pd.read_excel(\"test_questions.xlsx\")\n",
    "        \n",
    "        test_df = df[df[\"type\"].isin([\"選擇\", \"是非\"])].copy()\n",
    "        \n",
    "        test_df[\"llm_response\"] = \"\"\n",
    "        test_df[\"predicted\"] = \"\"\n",
    "        test_df[\"is_correct\"] = 0\n",
    "\n",
    "        qa_system = LlamaQASystem()\n",
    "        \n",
    "        for idx, row in test_df.iterrows():\n",
    "            q = row[\"question\"]\n",
    "            q_type = row[\"type\"]\n",
    "            correct_ans = str(row[\"answers\"]).strip()\n",
    "            \n",
    "            response_text = qa_system.display_response(q)\n",
    "            pred_ans = parse_llm_answer(response_text, q_type)\n",
    "            \n",
    "            is_correct = 1 if pred_ans.upper() == correct_ans.upper() else 0\n",
    "            \n",
    "            test_df.at[idx, \"llm_response\"] = response_text\n",
    "            test_df.at[idx, \"predicted\"] = pred_ans\n",
    "            test_df.at[idx, \"is_correct\"] = is_correct\n",
    "        \n",
    "        total = len(test_df)\n",
    "        correct_count = test_df[\"is_correct\"].sum()\n",
    "        accuracy = correct_count / total if total > 0 else 0.0\n",
    "        \n",
    "        print(\"=== 測試結果 ===\")\n",
    "        print(test_df[[\"id\", \"type\", \"answers\", \"predicted\", \"is_correct\"]])\n",
    "        print(f\"\\n共 {total} 題，正確 {correct_count} 題，Accuracy = {accuracy:.2f}\")\n",
    "        \n",
    "        test_df.to_csv(\"test_result_baseline.csv\", index=False, encoding='utf-8')\n",
    "        print(\"結果已儲存 test_result_baseline.csv\")\n",
    "if __name__ == \"__main__\":\n",
    "    # qa_system = LlamaQASystem()  # 創建 LlamaQASystem 的實例\n",
    "    # qa_system.main(\"test_questions.xlsx\")  # 呼叫實例的 main() 方法\n",
    "    main()\n",
    "    \n"
   ]
  }
 ],
 "metadata": {
  "kernelspec": {
   "display_name": "llm",
   "language": "python",
   "name": "python3"
  },
  "language_info": {
   "codemirror_mode": {
    "name": "ipython",
    "version": 3
   },
   "file_extension": ".py",
   "mimetype": "text/x-python",
   "name": "python",
   "nbconvert_exporter": "python",
   "pygments_lexer": "ipython3",
   "version": "3.9.19"
  }
 },
 "nbformat": 4,
 "nbformat_minor": 2
}
